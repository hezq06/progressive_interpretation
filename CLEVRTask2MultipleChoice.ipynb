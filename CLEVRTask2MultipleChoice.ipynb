{
 "cells": [
  {
   "cell_type": "code",
   "execution_count": 1,
   "metadata": {},
   "outputs": [],
   "source": [
    "%reload_ext autoreload\n",
    "%autoreload 2"
   ]
  },
  {
   "cell_type": "code",
   "execution_count": 2,
   "metadata": {},
   "outputs": [],
   "source": [
    "import numpy as np\n",
    "from source.trainutil import *\n",
    "from source.datautil import *\n",
    "from source.model import *\n",
    "from source.mathutil import *\n",
    "from tqdm import tqdm_notebook\n",
    "DEVICE = \"cpu\" # or \"cuda:0\"\n",
    "# torch.cuda.set_device(DEVICE) # uncomment this for CUDA"
   ]
  },
  {
   "cell_type": "markdown",
   "metadata": {},
   "source": [
    "## Multiple Choice Task"
   ]
  },
  {
   "cell_type": "code",
   "execution_count": 3,
   "metadata": {},
   "outputs": [],
   "source": [
    "# After first ipython notebook, we'll get an autoencoder doing information map seperation\n",
    "# and preprocessed json file with information map seperation representations\n",
    "# In this notbook, we'll going perform the multiple choice task."
   ]
  },
  {
   "cell_type": "code",
   "execution_count": 4,
   "metadata": {},
   "outputs": [],
   "source": [
    "PATH_TO_IMAGES_TRAIN = \"/storage/hezq17/CLEVR_v1.0/images/train\" # change this to where you download the images\n",
    "data_path_images_train = PATH_TO_IMAGES_TRAIN\n",
    "PATH_TO_IMAGES_VAL = \"/storage/hezq17/CLEVR_v1.0/images/val\" # change this to where you download the images\n",
    "data_path_images_val = PATH_TO_IMAGES_VAL"
   ]
  },
  {
   "cell_type": "code",
   "execution_count": 5,
   "metadata": {},
   "outputs": [
    {
     "name": "stdout",
     "output_type": "stream",
     "text": [
      "Data load from  dataset/json_clevr_train_with_maskautocode_PCM_10p53_h64reg0p5_pgnoise2e-3_focusMode_posiIncld.data\n",
      "Parsing dataset ...\n",
      "Data load from  dataset/json_clevr_val_with_maskautocode_PCM_10p53_h64reg0p5_pgnoise2e-3_focusMode_posiIncld.data\n",
      "Parsing dataset ...\n"
     ]
    }
   ],
   "source": [
    "data_path_json_train = \"dataset/json_clevr_train_with_maskautocode_PCM_10p53_h64reg0p5_pgnoise2e-3_focusMode_posiIncld.data\"\n",
    "data_path_json_val = \"dataset/json_clevr_val_with_maskautocode_PCM_10p53_h64reg0p5_pgnoise2e-3_focusMode_posiIncld.data\"\n",
    "\n",
    "mulcDataset = MultipleChoiceClevrDataset(data_path_json_train, data_path_images_train, epoch_len = 100000, question_mode=\"exist_sizecolor\")\n",
    "mulcDataset_val = MultipleChoiceClevrDataset(data_path_json_val, data_path_images_val, epoch_len = 20000, question_mode=\"exist_sizecolor\")"
   ]
  },
  {
   "cell_type": "code",
   "execution_count": 6,
   "metadata": {},
   "outputs": [],
   "source": [
    "data_loader = torch.utils.data.DataLoader(\n",
    "    mulcDataset, batch_size=128, shuffle=True, num_workers=4, collate_fn=mulcDataset.collate_fn)\n",
    "\n",
    "data_loader_val = torch.utils.data.DataLoader(\n",
    "    mulcDataset_val, batch_size=128, shuffle=True, num_workers=4, collate_fn=mulcDataset_val.collate_fn)"
   ]
  },
  {
   "cell_type": "code",
   "execution_count": 7,
   "metadata": {},
   "outputs": [],
   "source": [
    "model_para={\n",
    "    \"input_size\": 2+8+2+128,\n",
    "    \"input_divide\":[2,8,2,128],\n",
    "    \"output_size\":8+8+8+16,\n",
    "    \"output_divide\":[8,8,8,16],\n",
    "    \"mlp_layer_para\": [[16,16],[16,16],[16,16],[32,32]],\n",
    "    \"infobn_model\": [{\"gs_head_dim\":2,\"gs_head_num\":4},{\"gs_head_dim\":2,\"gs_head_num\":4},\n",
    "                   {\"gs_head_dim\":2,\"gs_head_num\":4},{\"gs_head_dim\":2,\"gs_head_num\":8}]\n",
    "}\n",
    "\n",
    "misc_para={\n",
    "    \"infobn_para\":{\"temp_scan_num\":4,\"reg_lamda\":0.0,\"scale_factor\":1.0},\n",
    "    \"sample_mode\":False,\n",
    "    \"sample_size\":1\n",
    "}\n",
    "mltitubeff = Multitube_FF_MLP_CLEVR(model_para, para=misc_para)"
   ]
  },
  {
   "cell_type": "code",
   "execution_count": 8,
   "metadata": {},
   "outputs": [],
   "source": [
    "model_para_h={\n",
    "    \"input_size\": 8+8+8+16, \n",
    "    \"output_size\":1,\n",
    "    \"mlp_layer_para\": [32,16,8]\n",
    "}\n",
    "model_para_ob={\n",
    "    \"input_size\": 10, \n",
    "    \"output_size\":1,\n",
    "    \"mlp_layer_para\": [5]\n",
    "}\n",
    "# model_para_out={\n",
    "#     \"input_size\": 4, \n",
    "#     \"output_size\":4,\n",
    "#     \"mlp_layer_para\": [16]\n",
    "# }\n",
    "model_para = {\n",
    "    \"HiddenConvFF\":model_para_h,\n",
    "    \"ObjConvFF\":model_para_ob\n",
    "#     \"OutFF\":model_para_out\n",
    "}\n",
    "misc_para = {}\n",
    "\n",
    "convff = ConvFF_MLP_CLEVR(model_para,para=misc_para)"
   ]
  },
  {
   "cell_type": "code",
   "execution_count": 9,
   "metadata": {},
   "outputs": [],
   "source": [
    "misc_para = {\n",
    "    \"seq1_coop_train_flag\": True\n",
    "}\n",
    "mltube_convff = ABS_CNN_SEQ(mltitubeff, convff, para=misc_para)\n",
    "\n",
    "misc_para={\n",
    "    \"loss_flag\":\"cross_entropy\",\n",
    "    \"sample_mode\":False,\n",
    "    \"sample_size\":1\n",
    "}\n",
    "loss = CAL_LOSS(mltube_convff, para = misc_para)"
   ]
  },
  {
   "cell_type": "code",
   "execution_count": 10,
   "metadata": {
    "scrolled": true
   },
   "outputs": [],
   "source": [
    "data_dict={\"train\":data_loader,\"val\":data_loader_val}\n",
    "mulcDataset_val.checkmode=False\n",
    "mulcDataset_val.singlecheckmode=False\n",
    "run_para={\"loss_exp_flag\":False, \"loss_clip\":4}\n",
    "ptM = PyTrain_Main(loss, data_dict, device=DEVICE, para=run_para)"
   ]
  },
  {
   "cell_type": "code",
   "execution_count": 11,
   "metadata": {},
   "outputs": [],
   "source": [
    "# First using low reg_lamda helps training\n",
    "for ii in range(len(mltitubeff.infobnl)):\n",
    "    mltitubeff.infobnl[ii].reg_lamda=0.0\n",
    "    mltitubeff.infobnl[ii].scale_factor=1.0"
   ]
  },
  {
   "cell_type": "code",
   "execution_count": 12,
   "metadata": {
    "scrolled": true
   },
   "outputs": [],
   "source": [
    "ptM.run_training(epoch=20, lr=1.0e-4, optimizer_label=\"adam\", print_step=200)"
   ]
  },
  {
   "cell_type": "code",
   "execution_count": 13,
   "metadata": {},
   "outputs": [],
   "source": [
    "num_region = 4\n",
    "num_dimtot = 20\n",
    "reg_lamda_scale = num_dimtot/num_region # scale constant between lamda in paper and lamda in code\n",
    "for ii in range(len(mltitubeff.infobnl)):\n",
    "    mltitubeff.infobnl[ii].reg_lamda=0.04 * reg_lamda_scale\n",
    "    mltitubeff.infobnl[ii].scale_factor=1.0"
   ]
  },
  {
   "cell_type": "code",
   "execution_count": 14,
   "metadata": {
    "scrolled": true
   },
   "outputs": [],
   "source": [
    "ptM.run_training(epoch=100, lr=1.0e-4, optimizer_label=\"adam\", print_step=200)"
   ]
  },
  {
   "cell_type": "code",
   "execution_count": 15,
   "metadata": {
    "scrolled": false
   },
   "outputs": [
    {
     "name": "stdout",
     "output_type": "stream",
     "text": [
      "Model load from  pretrained_models/Mltube_Convff_InfoB_PCM_10p53_h64reg0p5_pgnoise2e-3_focusMode_posiIncld_smallyellow.model\n"
     ]
    },
    {
     "data": {
      "text/plain": [
       "ABS_CNN_SEQ(\n",
       "  (seq1_coop): Multitube_FF_MLP_CLEVR(\n",
       "    (ff_tubes): ModuleList(\n",
       "      (0): FF_MLP(\n",
       "        (linear_layer_stack): ModuleList(\n",
       "          (0): Sequential(\n",
       "            (0): Linear(in_features=2, out_features=16, bias=True)\n",
       "            (1): LayerNorm((16,), eps=1e-05, elementwise_affine=True)\n",
       "            (2): ReLU()\n",
       "          )\n",
       "          (1): Sequential(\n",
       "            (0): Linear(in_features=16, out_features=16, bias=True)\n",
       "            (1): LayerNorm((16,), eps=1e-05, elementwise_affine=True)\n",
       "            (2): ReLU()\n",
       "          )\n",
       "        )\n",
       "        (h2o): Linear(in_features=16, out_features=8, bias=True)\n",
       "        (dropout): Dropout(p=0.0, inplace=False)\n",
       "      )\n",
       "      (1): FF_MLP(\n",
       "        (linear_layer_stack): ModuleList(\n",
       "          (0): Sequential(\n",
       "            (0): Linear(in_features=8, out_features=16, bias=True)\n",
       "            (1): LayerNorm((16,), eps=1e-05, elementwise_affine=True)\n",
       "            (2): ReLU()\n",
       "          )\n",
       "          (1): Sequential(\n",
       "            (0): Linear(in_features=16, out_features=16, bias=True)\n",
       "            (1): LayerNorm((16,), eps=1e-05, elementwise_affine=True)\n",
       "            (2): ReLU()\n",
       "          )\n",
       "        )\n",
       "        (h2o): Linear(in_features=16, out_features=8, bias=True)\n",
       "        (dropout): Dropout(p=0.0, inplace=False)\n",
       "      )\n",
       "      (2): FF_MLP(\n",
       "        (linear_layer_stack): ModuleList(\n",
       "          (0): Sequential(\n",
       "            (0): Linear(in_features=2, out_features=16, bias=True)\n",
       "            (1): LayerNorm((16,), eps=1e-05, elementwise_affine=True)\n",
       "            (2): ReLU()\n",
       "          )\n",
       "          (1): Sequential(\n",
       "            (0): Linear(in_features=16, out_features=16, bias=True)\n",
       "            (1): LayerNorm((16,), eps=1e-05, elementwise_affine=True)\n",
       "            (2): ReLU()\n",
       "          )\n",
       "        )\n",
       "        (h2o): Linear(in_features=16, out_features=8, bias=True)\n",
       "        (dropout): Dropout(p=0.0, inplace=False)\n",
       "      )\n",
       "      (3): FF_MLP(\n",
       "        (linear_layer_stack): ModuleList(\n",
       "          (0): Sequential(\n",
       "            (0): Linear(in_features=128, out_features=32, bias=True)\n",
       "            (1): LayerNorm((32,), eps=1e-05, elementwise_affine=True)\n",
       "            (2): ReLU()\n",
       "          )\n",
       "          (1): Sequential(\n",
       "            (0): Linear(in_features=32, out_features=32, bias=True)\n",
       "            (1): LayerNorm((32,), eps=1e-05, elementwise_affine=True)\n",
       "            (2): ReLU()\n",
       "          )\n",
       "        )\n",
       "        (h2o): Linear(in_features=32, out_features=16, bias=True)\n",
       "        (dropout): Dropout(p=0.0, inplace=False)\n",
       "      )\n",
       "    )\n",
       "    (infobnl): ModuleList(\n",
       "      (0): GSVIB_InfoBottleNeck(\n",
       "        (softmax): LogSoftmax()\n",
       "        (gsoftmax): Gumbel_Softmax()\n",
       "      )\n",
       "      (1): GSVIB_InfoBottleNeck(\n",
       "        (softmax): LogSoftmax()\n",
       "        (gsoftmax): Gumbel_Softmax()\n",
       "      )\n",
       "      (2): GSVIB_InfoBottleNeck(\n",
       "        (softmax): LogSoftmax()\n",
       "        (gsoftmax): Gumbel_Softmax()\n",
       "      )\n",
       "      (3): GSVIB_InfoBottleNeck(\n",
       "        (softmax): LogSoftmax()\n",
       "        (gsoftmax): Gumbel_Softmax()\n",
       "      )\n",
       "    )\n",
       "    (layer_norm0): LayerNorm((140,), eps=1e-05, elementwise_affine=True)\n",
       "    (layer_norm1): LayerNorm((40,), eps=1e-05, elementwise_affine=True)\n",
       "    (gsoftmax): Gumbel_Softmax()\n",
       "    (gauss_noise): GaussNoise()\n",
       "  )\n",
       "  (seq2_train): ConvFF_MLP_CLEVR(\n",
       "    (HiddenConvFF): FF_MLP(\n",
       "      (linear_layer_stack): ModuleList(\n",
       "        (0): Sequential(\n",
       "          (0): Linear(in_features=40, out_features=32, bias=True)\n",
       "          (1): LayerNorm((32,), eps=1e-05, elementwise_affine=True)\n",
       "          (2): ReLU()\n",
       "        )\n",
       "        (1): Sequential(\n",
       "          (0): Linear(in_features=32, out_features=16, bias=True)\n",
       "          (1): LayerNorm((16,), eps=1e-05, elementwise_affine=True)\n",
       "          (2): ReLU()\n",
       "        )\n",
       "        (2): Sequential(\n",
       "          (0): Linear(in_features=16, out_features=8, bias=True)\n",
       "          (1): LayerNorm((8,), eps=1e-05, elementwise_affine=True)\n",
       "          (2): ReLU()\n",
       "        )\n",
       "      )\n",
       "      (h2o): Linear(in_features=8, out_features=1, bias=True)\n",
       "      (dropout): Dropout(p=0.0, inplace=False)\n",
       "    )\n",
       "    (ObjConvFF): FF_MLP(\n",
       "      (linear_layer_stack): ModuleList(\n",
       "        (0): Sequential(\n",
       "          (0): Linear(in_features=10, out_features=5, bias=True)\n",
       "          (1): LayerNorm((5,), eps=1e-05, elementwise_affine=True)\n",
       "          (2): ReLU()\n",
       "        )\n",
       "      )\n",
       "      (h2o): Linear(in_features=5, out_features=1, bias=True)\n",
       "      (dropout): Dropout(p=0.0, inplace=False)\n",
       "    )\n",
       "  )\n",
       ")"
      ]
     },
     "execution_count": 15,
     "metadata": {},
     "output_type": "execute_result"
    }
   ],
   "source": [
    "load_model(mltube_convff,\"pretrained_models/Mltube_Convff_InfoB_PCM_10p53_h64reg0p5_pgnoise2e-3_focusMode_posiIncld_smallyellow.model\",\n",
    "          map_location=DEVICE)"
   ]
  },
  {
   "cell_type": "code",
   "execution_count": 16,
   "metadata": {},
   "outputs": [
    {
     "name": "stdout",
     "output_type": "stream",
     "text": [
      "Start evaluation ... 157\n"
     ]
    },
    {
     "name": "stderr",
     "output_type": "stream",
     "text": [
      "157it [00:13, 11.44it/s]"
     ]
    },
    {
     "name": "stdout",
     "output_type": "stream",
     "text": [
      "Evaluation Perplexity:  0.01624394078201123\n",
      "Time used in evaluation:  14.05709958076477\n"
     ]
    },
    {
     "name": "stderr",
     "output_type": "stream",
     "text": [
      "\n"
     ]
    }
   ],
   "source": [
    "mulcDataset_val.checkmode=False\n",
    "mulcDataset_val.singlecheckmode=False\n",
    "ptM.evalmem=None\n",
    "ptM.mem_eval_mode=\"task2\"\n",
    "ptM.do_eval(eval_mem_flag=True)"
   ]
  },
  {
   "cell_type": "code",
   "execution_count": 17,
   "metadata": {},
   "outputs": [
    {
     "name": "stdout",
     "output_type": "stream",
     "text": [
      "Start testing ...\n"
     ]
    },
    {
     "name": "stderr",
     "output_type": "stream",
     "text": [
      "157it [00:14, 11.20it/s]"
     ]
    },
    {
     "name": "stdout",
     "output_type": "stream",
     "text": [
      "Correct rate:  0.99165\n"
     ]
    },
    {
     "name": "stderr",
     "output_type": "stream",
     "text": [
      "\n"
     ]
    },
    {
     "data": {
      "text/plain": [
       "0.99165"
      ]
     },
     "execution_count": 17,
     "metadata": {},
     "output_type": "execute_result"
    }
   ],
   "source": [
    "ptM.do_test()"
   ]
  },
  {
   "cell_type": "code",
   "execution_count": 18,
   "metadata": {},
   "outputs": [
    {
     "name": "stdout",
     "output_type": "stream",
     "text": [
      "(509900, 40) (509900, 40)\n"
     ]
    }
   ],
   "source": [
    "# Interpretation as meta-information of mutual information flow pattern\n",
    "evalmatr = np.concatenate(ptM.evalmem[0],axis=0).reshape(-1,40)\n",
    "evalcontr = np.concatenate(ptM.evalmem[1],axis=0).reshape(-1,40)\n",
    "evalmat=[]\n",
    "evalcont=[]\n",
    "for ii in range(len(evalmatr)):\n",
    "    if (evalmatr[ii]!=0).any():\n",
    "        evalmat.append(evalmatr[ii])\n",
    "        evalcont.append(evalcontr[ii])\n",
    "evalmat=np.array(evalmat)\n",
    "evalcont=np.array(evalcont)\n",
    "print(evalmat.shape, evalcont.shape)"
   ]
  },
  {
   "cell_type": "code",
   "execution_count": 19,
   "metadata": {},
   "outputs": [
    {
     "name": "stdout",
     "output_type": "stream",
     "text": [
      "[0.23708420451567547, 0.5253658509953114, 0.23551462188628036, 1.1169105328889426]\n"
     ]
    }
   ],
   "source": [
    "evalmatl=[]\n",
    "sep=[[0,8],[8,16],[16,24],[24,40]]\n",
    "lenl=[4,4,4,8]\n",
    "for ii in range(4):\n",
    "    evalmatp=evalmat[:,sep[ii][0]:sep[ii][1]].reshape(-1,lenl[ii],2)[:,:,0]\n",
    "    entp = cal_entropy_raw_ND_discrete(np.round(evalmatp))\n",
    "    evalmatl.append(entp)\n",
    "print(evalmatl)"
   ]
  },
  {
   "cell_type": "code",
   "execution_count": 20,
   "metadata": {},
   "outputs": [
    {
     "name": "stdout",
     "output_type": "stream",
     "text": [
      "[0.23528927504832955, 0.18164258676814177, 0.23498793953784933, 0.4287884571665727]\n"
     ]
    }
   ],
   "source": [
    "evalcontl=[]\n",
    "for ii in range(4):\n",
    "    evalcontp=evalcont[:,sep[ii][0]:sep[ii][1]].reshape(-1,2)\n",
    "    entp = np.mean(cal_entropy(evalcontp,log_flag=True))*lenl[ii]\n",
    "    evalcontl.append(entp)\n",
    "print(evalcontl)"
   ]
  },
  {
   "cell_type": "code",
   "execution_count": 21,
   "metadata": {},
   "outputs": [
    {
     "name": "stdout",
     "output_type": "stream",
     "text": [
      "Mutual information flow in each information map:\n",
      "[1.79492947e-03 3.43723264e-01 5.26682348e-04 6.88122076e-01]\n"
     ]
    }
   ],
   "source": [
    "print(\"Mutual information flow in each information map:\")\n",
    "print(np.array(evalmatl) - np.array(evalcontl))"
   ]
  },
  {
   "cell_type": "markdown",
   "metadata": {},
   "source": [
    "## Single Example Explanation"
   ]
  },
  {
   "cell_type": "code",
   "execution_count": 22,
   "metadata": {},
   "outputs": [
    {
     "name": "stdout",
     "output_type": "stream",
     "text": [
      "Image getting ...\n",
      "Image getting ...\n",
      "Image getting ...\n",
      "Image getting ...\n",
      "torch.Size([16, 4, 10, 140]) 3\n"
     ]
    }
   ],
   "source": [
    "mulcDataset_val.checkmode=True\n",
    "mulcDataset_val.singlecheckmode=False\n",
    "datax, Nobjl, ans = mulcDataset_val[int(np.random.rand()*len(mulcDataset_val))]\n",
    "datax=datax.view(1,4,10,140).expand(16,4,10,140)\n",
    "print(datax.shape,ans)"
   ]
  },
  {
   "cell_type": "markdown",
   "metadata": {},
   "source": [
    "### Dimension by dimension check of GSVIB for each region"
   ]
  },
  {
   "cell_type": "code",
   "execution_count": 23,
   "metadata": {},
   "outputs": [
    {
     "name": "stdout",
     "output_type": "stream",
     "text": [
      "0 0.06004513749530355 0.05895072266925102 mutual information flow: 0.0010944148260525269\n",
      "1 0.05966455220936807 0.05865763204770557 mutual information flow: 0.0010069201616624973\n",
      "2 0.05734001984383708 0.05735004134670223 mutual information flow: -1.0021502865144305e-05\n",
      "3 0.06005398043948707 0.060330878984670905 mutual information flow: -0.0002768985451838332\n"
     ]
    }
   ],
   "source": [
    "outmat = np.concatenate(ptM.evalmem[0],axis=0).reshape(-1,40)\n",
    "contmat = np.concatenate(ptM.evalmem[1],axis=0).reshape(-1,40)\n",
    "maskmat = np.concatenate(ptM.evalmem[2],axis=0).reshape(-1)\n",
    "\n",
    "outmat=outmat[maskmat==1,:]\n",
    "contmat=contmat[maskmat==1,:]\n",
    "\n",
    "outmatsub = outmat[:,0:8].reshape(-1,4,2)\n",
    "contmatsub = contmat[:,0:8].reshape(-1,4,2)\n",
    "for ii in range(4):\n",
    "    ent0 = cal_entropy_raw_ND_discrete(np.round(outmatsub[:,ii,:]))\n",
    "    ent1 = np.mean(cal_entropy(contmatsub[:,ii,:],log_flag=True))\n",
    "    print(ii, ent0, ent1, \"mutual information flow:\", ent0-ent1)"
   ]
  },
  {
   "cell_type": "code",
   "execution_count": 24,
   "metadata": {},
   "outputs": [
    {
     "name": "stdout",
     "output_type": "stream",
     "text": [
      "0 0.059185664733317774 0.05883602081390016 mutual information flow: 0.00034964391941761513\n",
      "1 0.060504498528426945 0.061176023931669675 mutual information flow: -0.0006715254032427301\n",
      "2 0.3444190609015721 0.0004032642496271082 mutual information flow: 0.344015796651945\n",
      "3 0.061376413640621436 0.06122727777294488 mutual information flow: 0.00014913586767655723\n"
     ]
    }
   ],
   "source": [
    "outmat = np.concatenate(ptM.evalmem[0],axis=0).reshape(-1,40)\n",
    "contmat = np.concatenate(ptM.evalmem[1],axis=0).reshape(-1,40)\n",
    "maskmat = np.concatenate(ptM.evalmem[2],axis=0).reshape(-1)\n",
    "\n",
    "outmat=outmat[maskmat==1,:]\n",
    "contmat=contmat[maskmat==1,:]\n",
    "\n",
    "outmatsub = outmat[:,8:16].reshape(-1,4,2)\n",
    "contmatsub= contmat[:,8:16].reshape(-1,4,2)\n",
    "for ii in range(4):\n",
    "    ent0 = cal_entropy_raw_ND_discrete(np.round(outmatsub[:,ii,:]))\n",
    "    ent1 = np.mean(cal_entropy(contmatsub[:,ii,:],log_flag=True))\n",
    "    print(ii, ent0, ent1,\"mutual information flow:\",ent0-ent1)"
   ]
  },
  {
   "cell_type": "code",
   "execution_count": 25,
   "metadata": {},
   "outputs": [
    {
     "name": "stdout",
     "output_type": "stream",
     "text": [
      "0 0.057742601925536347 0.05941484546776931 mutual information flow: -0.0016722435422329637\n",
      "1 0.06298793143570611 0.06144576333462355 mutual information flow: 0.0015421681010825555\n",
      "2 0.05828711502825765 0.057963106623653844 mutual information flow: 0.0003240084046038025\n",
      "3 0.05650558650988223 0.056164224111802774 mutual information flow: 0.0003413623980794561\n"
     ]
    }
   ],
   "source": [
    "outmat = np.concatenate(ptM.evalmem[0],axis=0).reshape(-1,40)\n",
    "contmat = np.concatenate(ptM.evalmem[1],axis=0).reshape(-1,40)\n",
    "maskmat = np.concatenate(ptM.evalmem[2],axis=0).reshape(-1)\n",
    "\n",
    "outmat=outmat[maskmat==1,:]\n",
    "contmat=contmat[maskmat==1,:]\n",
    "\n",
    "outmatsub = outmat[:,16:24].reshape(-1,4,2)\n",
    "contmatsub= contmat[:,16:24].reshape(-1,4,2)\n",
    "for ii in range(4):\n",
    "    ent0 = cal_entropy_raw_ND_discrete(np.round(outmatsub[:,ii,:]))\n",
    "    ent1 = np.mean(cal_entropy(contmatsub[:,ii,:],log_flag=True))\n",
    "    print(ii, ent0, ent1,\"mutual information flow:\",ent0-ent1)"
   ]
  },
  {
   "cell_type": "code",
   "execution_count": 26,
   "metadata": {},
   "outputs": [
    {
     "name": "stdout",
     "output_type": "stream",
     "text": [
      "0 0.6924593461545704 0.005934205881447717 mutual information flow: 0.6865251402731227\n",
      "1 0.05994784152502615 0.0596539874050433 mutual information flow: 0.0002938541199828462\n",
      "2 0.05847425083726841 0.05856033412737665 mutual information flow: -8.608329010823673e-05\n",
      "3 0.059637974974925054 0.06001833413579463 mutual information flow: -0.00038035916086957833\n",
      "4 0.05701740396608719 0.05543237567531436 mutual information flow: 0.0015850282907728316\n",
      "5 0.062297448534541194 0.06198230695028866 mutual information flow: 0.0003151415842525332\n",
      "6 0.059283301495277545 0.05929303167065953 mutual information flow: -9.730175381986172e-06\n",
      "7 0.06797752898244477 0.06791388132064763 mutual information flow: 6.364766179714487e-05\n"
     ]
    }
   ],
   "source": [
    "outmat = np.concatenate(ptM.evalmem[0],axis=0).reshape(-1,40)\n",
    "contmat = np.concatenate(ptM.evalmem[1],axis=0).reshape(-1,40)\n",
    "maskmat = np.concatenate(ptM.evalmem[2],axis=0).reshape(-1)\n",
    "\n",
    "outmat=outmat[maskmat==1,:]\n",
    "contmat=contmat[maskmat==1,:]\n",
    "\n",
    "outmatsub = outmat[:,24:].reshape(-1,8,2)\n",
    "contmatsub = contmat[:,24:].reshape(-1,8,2)\n",
    "for ii in range(8):\n",
    "    ent0 = cal_entropy_raw_ND_discrete(np.round(outmatsub[:,ii,:]))\n",
    "    ent1 = np.mean(cal_entropy(contmatsub[:,ii,:],log_flag=True))\n",
    "    print(ii, ent0, ent1,\"mutual information flow:\",ent0-ent1)"
   ]
  },
  {
   "cell_type": "markdown",
   "metadata": {},
   "source": [
    "### Building single explanation matrix"
   ]
  },
  {
   "cell_type": "code",
   "execution_count": 27,
   "metadata": {
    "scrolled": false
   },
   "outputs": [],
   "source": [
    "with torch.no_grad():\n",
    "    yout = mltube_convff((datax.to(DEVICE),Nobjl.to(DEVICE)), schedule=1.0)\n",
    "singleout = mltube_convff.seq1_coop.output.cpu().numpy()\n",
    "resmatl=[]\n",
    "for ii in range(4):\n",
    "    nobj = int(torch.sum(Nobjl[ii]).item())\n",
    "    resmat = np.zeros((4,10))\n",
    "    for iio in range(nobj):\n",
    "        posiout = singleout[0,ii,iio,8:16]\n",
    "        headpick_color = 4 # Determine head pick id in last step\n",
    "        resmat[0,iio]=0\n",
    "        resmat[1,iio]=posiout[headpick_color]\n",
    "        resmat[2,iio]=0\n",
    "        unkout = singleout[0,ii,iio,24:]\n",
    "        headpick_unknown = 1\n",
    "        resmat[3,iio]=unkout[headpick_unknown]\n",
    "    resmatl.append(resmat)"
   ]
  },
  {
   "cell_type": "code",
   "execution_count": 28,
   "metadata": {},
   "outputs": [],
   "source": [
    "from matplotlib.colors import ListedColormap\n",
    "seismic = plt.get_cmap('seismic', 11)\n",
    "newcolors = seismic(np.linspace(0, 1, 11))\n",
    "grey = np.array([0.8, 0.8, 0.8, 1])\n",
    "newcolors[0, :] = grey\n",
    "newcmp = ListedColormap(newcolors)\n",
    "\n",
    "twocolors = seismic(np.linspace(0, 1, 2))\n",
    "white = np.array([1, 1, 1, 1])\n",
    "twocolors[0, :] = white\n",
    "twocolorsmp = ListedColormap(twocolors)"
   ]
  },
  {
   "cell_type": "code",
   "execution_count": 29,
   "metadata": {},
   "outputs": [],
   "source": [
    "idpickmat=(mulcDataset_val.mask_tl[0]==1).astype(int)\n",
    "idpickmat.shape\n",
    "xlsp = np.linspace(0,479,480)\n",
    "ylsp = np.linspace(0,319,320)\n",
    "x = np.sum(idpickmat*xlsp.reshape(1,480))/np.sum(idpickmat)\n",
    "y = np.sum(idpickmat*ylsp.reshape(320,1))/np.sum(idpickmat)"
   ]
  },
  {
   "cell_type": "code",
   "execution_count": 30,
   "metadata": {},
   "outputs": [
    {
     "data": {
      "image/png": "[encoded data removed]",
      "text/plain": [
       "<Figure size 432x288 with 16 Axes>"
      ]
     },
     "metadata": {
      "needs_background": "light"
     },
     "output_type": "display_data"
    }
   ],
   "source": [
    "fig, axes = plt.subplots(nrows=4, ncols=3)\n",
    "for iis in range(4):\n",
    "    axes[iis][0].imshow(mulcDataset_val.imgl[iis])\n",
    "    im = axes[iis][1].imshow(mulcDataset_val.mask_tl[iis], cmap=newcmp, clim=(0, 10))\n",
    "    for iiob in range(1,11): ### Mask labeling\n",
    "        if (mulcDataset_val.mask_tl[iis]==iiob).any():\n",
    "            idpickmat=(mulcDataset_val.mask_tl[iis]==iiob).astype(int)\n",
    "            xlsp = np.linspace(0,479,480)\n",
    "            ylsp = np.linspace(0,319,320)\n",
    "            x = np.sum(idpickmat*xlsp.reshape(1,480))/np.sum(idpickmat)\n",
    "            y = np.sum(idpickmat*ylsp.reshape(320,1))/np.sum(idpickmat)\n",
    "            if iiob==10:\n",
    "                shift=20\n",
    "            else:\n",
    "                shift=10\n",
    "            axes[iis][1].text(x-shift,y+10,iiob,fontsize=12,color=[0.2,0.9,0.9])\n",
    "    fig.colorbar(im, ax=axes[iis][1])\n",
    "    axes[iis][2].imshow(resmatl[iis], cmap=twocolorsmp, clim=(0, 1))\n",
    "    axes[iis][2].set_xticks(list(range(10)))\n",
    "    axes[iis][2].set_xticklabels(list(range(1,11)))\n",
    "    axes[iis][2].set_yticks(list(range(4)))\n",
    "    axes[iis][2].set_yticklabels([\"posi\",\"color\",\"material\",\"else\"])\n",
    "    axes[iis][2].set_xlabel(\"object #\")\n",
    "fig.text(0.38, 0.95, \"Exist small yellow object\", fontsize=20,\n",
    "        verticalalignment='top')\n",
    "plt.show()"
   ]
  },
  {
   "cell_type": "markdown",
   "metadata": {},
   "source": [
    "## Unconceptualized Region Crosscheck via Mutual information"
   ]
  },
  {
   "cell_type": "code",
   "execution_count": 31,
   "metadata": {},
   "outputs": [
    {
     "name": "stderr",
     "output_type": "stream",
     "text": [
      "/home/hezq17/anaconda3/envs/tensorflow/lib/python3.7/site-packages/ipykernel_launcher.py:9: TqdmDeprecationWarning: This function will be removed in tqdm==5.0.0\n",
      "Please use `tqdm.notebook.tqdm` instead of `tqdm.tqdm_notebook`\n",
      "  if __name__ == '__main__':\n"
     ]
    },
    {
     "data": {
      "application/vnd.jupyter.widget-view+json": {
       "model_id": "c40dc4316e1446578dddbb5067024fbc",
       "version_major": 2,
       "version_minor": 0
      },
      "text/plain": [
       "HBox(children=(FloatProgress(value=0.0, max=157.0), HTML(value='')))"
      ]
     },
     "metadata": {},
     "output_type": "display_data"
    },
    {
     "name": "stdout",
     "output_type": "stream",
     "text": [
      "\n"
     ]
    }
   ],
   "source": [
    "batchcheckmatl=[]\n",
    "singleoutl=[]\n",
    "Nobjll=[]\n",
    "\n",
    "mulcDataset_val.checkmode=False\n",
    "mulcDataset_val.singlecheckmode=True\n",
    "data_loader_val = torch.utils.data.DataLoader(\n",
    "    mulcDataset_val, batch_size=128, shuffle=True, num_workers=4, collate_fn=mulcDataset_val.collate_fn)\n",
    "for databatch in tqdm_notebook(data_loader_val):\n",
    "    (datax, Nobjl), answ, batchcheckmat = databatch\n",
    "    with torch.no_grad():\n",
    "        yout = mltube_convff((datax.to(DEVICE),Nobjl.to(DEVICE)), schedule=1.0)\n",
    "    singleout = mltube_convff.seq1_coop.output.cpu()\n",
    "    contextout = torch.exp(mltube_convff.seq1_coop.contextl.cpu())\n",
    "    Nobjll.append(Nobjl)\n",
    "    batchcheckmatl.append(batchcheckmat)\n",
    "    singleoutl.append(singleout)\n",
    "\n",
    "Nobjll = torch.cat(Nobjll,dim=0).view(800000)\n",
    "batchcheckmatl = torch.cat(batchcheckmatl,dim=0).view(800000,4)\n",
    "singleoutl = torch.cat(singleoutl,dim=0).view(800000,40)"
   ]
  },
  {
   "cell_type": "code",
   "execution_count": 32,
   "metadata": {},
   "outputs": [
    {
     "name": "stderr",
     "output_type": "stream",
     "text": [
      "/home/hezq17/anaconda3/envs/tensorflow/lib/python3.7/site-packages/ipykernel_launcher.py:5: TqdmDeprecationWarning: This function will be removed in tqdm==5.0.0\n",
      "Please use `tqdm.notebook.tqdm` instead of `tqdm.tqdm_notebook`\n",
      "  \"\"\"\n"
     ]
    },
    {
     "data": {
      "application/vnd.jupyter.widget-view+json": {
       "model_id": "692b720e1d3c449e802341e82315326c",
       "version_major": 2,
       "version_minor": 0
      },
      "text/plain": [
       "HBox(children=(FloatProgress(value=0.0, max=800000.0), HTML(value='')))"
      ]
     },
     "metadata": {},
     "output_type": "display_data"
    },
    {
     "name": "stdout",
     "output_type": "stream",
     "text": [
      "\n"
     ]
    }
   ],
   "source": [
    "colorl = []\n",
    "sizel = []\n",
    "color_repl = []\n",
    "size_repl = []\n",
    "for ii in tqdm_notebook(range(len(Nobjll))):\n",
    "    if Nobjll[ii]==1:\n",
    "        colorl.append(batchcheckmatl[ii,1])\n",
    "        sizel.append(batchcheckmatl[ii,3])\n",
    "        color_repl.append(np.round(singleoutl[ii,8:16].numpy()))\n",
    "        size_repl.append(np.round(singleoutl[ii,24:].numpy()))\n",
    "colorl=np.array(colorl)\n",
    "sizel=np.array(sizel)\n",
    "color_repl = np.array(color_repl)\n",
    "size_repl = np.array(size_repl)"
   ]
  },
  {
   "cell_type": "code",
   "execution_count": 33,
   "metadata": {},
   "outputs": [
    {
     "data": {
      "text/plain": [
       "0.34362705357327306"
      ]
     },
     "execution_count": 33,
     "metadata": {},
     "output_type": "execute_result"
    }
   ],
   "source": [
    "cal_entropy_raw_ND_discrete(colorl)"
   ]
  },
  {
   "cell_type": "code",
   "execution_count": 34,
   "metadata": {},
   "outputs": [
    {
     "data": {
      "text/plain": [
       "0.3369461125507023"
      ]
     },
     "execution_count": 34,
     "metadata": {},
     "output_type": "execute_result"
    }
   ],
   "source": [
    "cal_muinfo_raw_ND_discrete(colorl,color_repl)"
   ]
  },
  {
   "cell_type": "code",
   "execution_count": 35,
   "metadata": {},
   "outputs": [
    {
     "data": {
      "text/plain": [
       "0.692512182057459"
      ]
     },
     "execution_count": 35,
     "metadata": {},
     "output_type": "execute_result"
    }
   ],
   "source": [
    "cal_entropy_raw_ND_discrete(sizel)"
   ]
  },
  {
   "cell_type": "code",
   "execution_count": 36,
   "metadata": {},
   "outputs": [
    {
     "data": {
      "text/plain": [
       "0.6593431584799283"
      ]
     },
     "execution_count": 36,
     "metadata": {},
     "output_type": "execute_result"
    }
   ],
   "source": [
    "cal_muinfo_raw_ND_discrete(sizel,size_repl)"
   ]
  }
 ],
 "metadata": {
  "kernelspec": {
   "display_name": "Python 3",
   "language": "python",
   "name": "python3"
  },
  "language_info": {
   "codemirror_mode": {
    "name": "ipython",
    "version": 3
   },
   "file_extension": ".py",
   "mimetype": "text/x-python",
   "name": "python",
   "nbconvert_exporter": "python",
   "pygments_lexer": "ipython3",
   "version": "3.7.5"
  },
  "toc": {
   "base_numbering": 1,
   "nav_menu": {},
   "number_sections": true,
   "sideBar": false,
   "skip_h1_title": false,
   "title_cell": "Table of Contents",
   "title_sidebar": "Contents",
   "toc_cell": false,
   "toc_position": {
    "height": "625px",
    "left": "1313.67px",
    "top": "110.433px",
    "width": "158.333px"
   },
   "toc_section_display": false,
   "toc_window_display": true
  }
 },
 "nbformat": 4,
 "nbformat_minor": 4
}
